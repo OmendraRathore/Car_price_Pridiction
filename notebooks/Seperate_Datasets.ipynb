{
 "cells": [
  {
   "cell_type": "code",
   "id": "initial_id",
   "metadata": {
    "collapsed": true
   },
   "source": [
    "import pandas as pd\n",
    "from datetime import datetime"
   ],
   "outputs": [],
   "execution_count": null
  },
  {
   "metadata": {},
   "cell_type": "markdown",
   "source": "### Load the Dataset",
   "id": "aadf967abe15fc8c"
  },
  {
   "metadata": {},
   "cell_type": "code",
   "source": [
    "try:\n",
    "    df = pd.read_csv('cardekho_dataset.csv')\n",
    "    print(\"'cardekho_dataset.csv' loaded successfully!\")\n",
    "    print(f\"Original dataset contains {df.shape[0]} rows.\")\n",
    "except FileNotFoundError:\n",
    "    print(\"Error: Make sure 'cardekho_dataset.csv' is in the same directory.\")\n",
    "\n",
    "if 'Unnamed: 0' in df.columns:\n",
    "    df = df.drop('Unnamed: 0', axis=1)"
   ],
   "id": "71b4dbc361c95563",
   "outputs": [],
   "execution_count": null
  },
  {
   "metadata": {},
   "cell_type": "markdown",
   "source": "### Perform Universal Cleaning and Preparation",
   "id": "8cc522453fe7d8a0"
  },
  {
   "metadata": {},
   "cell_type": "code",
   "source": [
    "print(\"\\nPerforming initial data cleaning and preparation\")\n",
    "\n",
    "df.rename(columns={\n",
    "    'brand': 'company',\n",
    "    'car_name': 'name',\n",
    "    'selling_price': 'price',\n",
    "    'km_driven':'kms_driven',\n",
    "    'transmission_type': 'transmission',\n",
    "    'mileage': 'mileage_kmpl',\n",
    "    'engine': 'engine_cc',\n",
    "    'max_power': 'max_power_bhp'\n",
    "}, inplace=True)\n",
    "\n",
    "\n",
    "df['year'] = datetime.now().year - df['vehicle_age']\n",
    "df = df.drop('vehicle_age', axis=1)\n",
    "\n",
    "df['engine_cc'] = pd.to_numeric(df['engine_cc'].astype(str).str.replace(' CC', ''), errors='coerce')\n",
    "df['max_power_bhp'] = pd.to_numeric(df['max_power_bhp'].astype(str).str.replace(' bhp', ''), errors='coerce')\n",
    "df['mileage_kmpl'] = pd.to_numeric(df['mileage_kmpl'].astype(str).str.split(' ').str[0], errors='coerce')\n",
    "\n",
    "for col in ['engine_cc', 'max_power_bhp', 'mileage_kmpl', 'seats']:\n",
    "    df[col].fillna(df[col].median(), inplace=True)\n",
    "\n",
    "print(\"Initial cleaning complete\")"
   ],
   "id": "acf0619efd2fa4ac",
   "outputs": [],
   "execution_count": null
  },
  {
   "metadata": {},
   "cell_type": "markdown",
   "source": "### Split the Dataset(based on seller_type)",
   "id": "151748d5c0d8ba51"
  },
  {
   "metadata": {},
   "cell_type": "code",
   "source": [
    "print(\"\\nSplitting data into Dealer and Private Seller markets\")\n",
    "\n",
    "dealer_df = df[df['seller_type'].isin(['Dealer', 'Trustmark Dealer'])].copy()\n",
    "\n",
    "private_df = df[df['seller_type'] == 'Individual'].copy()\n",
    "\n",
    "dealer_df = dealer_df.drop('seller_type', axis=1)\n",
    "private_df = private_df.drop('seller_type', axis=1)\n",
    "\n",
    "print(f\"Created DEALER dataset with {dealer_df.shape[0]} rows.\")\n",
    "print(f\"Created PRIVATE SELLER dataset with {private_df.shape[0]} rows.\")"
   ],
   "id": "ba2942e1f42ae576",
   "outputs": [],
   "execution_count": null
  },
  {
   "metadata": {},
   "cell_type": "markdown",
   "source": "### Save the Two Final CSV Files",
   "id": "c782335d4f2f131e"
  },
  {
   "metadata": {},
   "cell_type": "code",
   "source": [
    "dealer_df.to_csv('dealer_market_data.csv', index=False)\n",
    "private_df.to_csv('private_market_data.csv', index=False)\n",
    "\n",
    "print(\"\\nTwo new files have been created:\")\n",
    "print(\"1. dealer_market_data.csv\")\n",
    "print(\"2. private_market_data.csv\")"
   ],
   "id": "f6884af554157df4",
   "outputs": [],
   "execution_count": null
  },
  {
   "metadata": {},
   "cell_type": "code",
   "source": "",
   "id": "7810eb8c5b702245",
   "outputs": [],
   "execution_count": null
  }
 ],
 "metadata": {
  "kernelspec": {
   "display_name": "Python 3",
   "language": "python",
   "name": "python3"
  },
  "language_info": {
   "codemirror_mode": {
    "name": "ipython",
    "version": 2
   },
   "file_extension": ".py",
   "mimetype": "text/x-python",
   "name": "python",
   "nbconvert_exporter": "python",
   "pygments_lexer": "ipython2",
   "version": "2.7.6"
  }
 },
 "nbformat": 4,
 "nbformat_minor": 5
}
