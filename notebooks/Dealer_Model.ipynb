{
 "cells": [
  {
   "cell_type": "code",
   "id": "initial_id",
   "metadata": {
    "collapsed": true
   },
   "source": [
    "import pandas as pd\n",
    "import numpy as np\n",
    "import xgboost as xgb\n",
    "import joblib\n",
    "from sklearn.model_selection import train_test_split\n",
    "from sklearn.metrics import r2_score, mean_absolute_error\n",
    "from datetime import datetime"
   ],
   "outputs": [],
   "execution_count": null
  },
  {
   "metadata": {},
   "cell_type": "markdown",
   "source": "### Load and Initial Cleaning of Data",
   "id": "ed621981f674a67e"
  },
  {
   "metadata": {},
   "cell_type": "code",
   "source": [
    "print(\"Loading and Initial Cleaning\")\n",
    "try:\n",
    "    df = pd.read_csv('cardekho_dataset.csv')\n",
    "    print(\"✅ 'cardekho_dataset.csv' loaded successfully!\")\n",
    "except FileNotFoundError:\n",
    "    print(\"Error: Make sure 'cardekho_dataset.csv' is in the same directory.\")\n",
    "\n",
    "if 'Unnamed: 0' in df.columns:\n",
    "    df = df.drop('Unnamed: 0', axis=1)\n",
    "\n",
    "if 'model' in df.columns:\n",
    "    df = df.drop('model', axis=1)\n",
    "    print(\"👍 Redundant 'model' column removed.\")"
   ],
   "id": "41d161180a4c97b9",
   "outputs": [],
   "execution_count": null
  },
  {
   "metadata": {},
   "cell_type": "markdown",
   "source": "### Full Data Preparation",
   "id": "700d4905da671ed4"
  },
  {
   "metadata": {},
   "cell_type": "code",
   "source": [
    "print(\"\\nPreparing All Columns\")\n",
    "df.rename(columns={\n",
    "    'brand': 'company', 'car_name': 'name', 'selling_price': 'price', 'km_driven':'kms_driven',\n",
    "    'transmission_type': 'transmission', 'mileage': 'mileage_kmpl',\n",
    "    'engine': 'engine_cc', 'max_power': 'max_power_bhp'\n",
    "}, inplace=True)\n",
    "df['year'] = datetime.now().year - df['vehicle_age']\n",
    "df['engine_cc'] = pd.to_numeric(df['engine_cc'].astype(str).str.replace(' CC', ''), errors='coerce')\n",
    "df['max_power_bhp'] = pd.to_numeric(df['max_power_bhp'].astype(str).str.replace(' bhp', ''), errors='coerce')\n",
    "df['mileage_kmpl'] = pd.to_numeric(df['mileage_kmpl'].astype(str).str.split(' ').str[0], errors='coerce')\n",
    "for col in ['engine_cc', 'max_power_bhp', 'mileage_kmpl', 'seats']:\n",
    "    df[col].fillna(df[col].median(), inplace=True)\n",
    "final_df = df[['company', 'name', 'year', 'price', 'kms_driven', 'fuel_type', 'transmission', 'seller_type', 'mileage_kmpl', 'engine_cc', 'max_power_bhp', 'seats']]\n",
    "print(\"Data cleaning complete.\")"
   ],
   "id": "1f07f99de1201fa",
   "outputs": [],
   "execution_count": null
  },
  {
   "metadata": {},
   "cell_type": "markdown",
   "source": "### Feature Engineering (One-Hot Encoding)",
   "id": "168e2812574ff4a6"
  },
  {
   "metadata": {},
   "cell_type": "code",
   "source": [
    "print(\"\\nPerforming One-Hot Encoding\")\n",
    "model_ready_df = pd.get_dummies(final_df, columns=['company', 'name', 'fuel_type', 'transmission', 'seller_type'])\n",
    "print(\"One-Hot Encoding complete.\")"
   ],
   "id": "4b66e21c240ae632",
   "outputs": [],
   "execution_count": null
  },
  {
   "metadata": {},
   "cell_type": "markdown",
   "source": "### Split Data into Training and Testing Sets",
   "id": "b05d260a8dbdf64a"
  },
  {
   "metadata": {},
   "cell_type": "code",
   "source": [
    "print(\"\\nSplitting Data\")\n",
    "X = model_ready_df.drop('price', axis=1)\n",
    "y = model_ready_df['price']\n",
    "X_train, X_test, y_train, y_test = train_test_split(X, y, test_size=0.2, random_state=42)\n",
    "print(f\"Data split complete\")"
   ],
   "id": "20d7a285b8e12ea9",
   "outputs": [],
   "execution_count": null
  },
  {
   "metadata": {},
   "cell_type": "markdown",
   "source": "### Train the XGBoost Model",
   "id": "6b34123b52ede6a0"
  },
  {
   "metadata": {},
   "cell_type": "code",
   "source": [
    "print(\"\\nTraining the Model\")\n",
    "print(\"Starting model training\")\n",
    "model = xgb.XGBRegressor(\n",
    "    device='cpu',\n",
    "    n_estimators=1000,\n",
    "    learning_rate=0.05,\n",
    "    max_depth=5,\n",
    "    random_state=42,\n",
    "    n_jobs=-1\n",
    ")\n",
    "model.fit(X_train, y_train)\n",
    "print(\"Model training complete!\")"
   ],
   "id": "7ce23a3757905b47",
   "outputs": [],
   "execution_count": null
  },
  {
   "metadata": {},
   "cell_type": "markdown",
   "source": "### Evaluate Model Performance",
   "id": "42165f8941bb4133"
  },
  {
   "metadata": {},
   "cell_type": "code",
   "source": [
    "print(\"\\nEvaluating Model Performance\")\n",
    "predictions = model.predict(X_test)\n",
    "r2 = r2_score(y_test, predictions)\n",
    "mae = mean_absolute_error(y_test, predictions)\n",
    "print(f\"R-squared (R2): {r2:.3f}\")\n",
    "print(f\"Mean Absolute Error (MAE): ₹{mae:,.2f}\")"
   ],
   "id": "8b110d889a930ad9",
   "outputs": [],
   "execution_count": null
  },
  {
   "metadata": {},
   "cell_type": "markdown",
   "source": "### Save the Trained Model",
   "id": "2a5cae9cd0eb46b2"
  },
  {
   "metadata": {},
   "cell_type": "code",
   "source": [
    "print(\"\\nSaving the Model\")\n",
    "joblib.dump(model, 'cardekho_dealer_model.joblib')\n",
    "print(\"\\nTrained dealer model has been saved as 'cardekho_dealer_model.joblib'\")"
   ],
   "id": "5137d70befa54748",
   "outputs": [],
   "execution_count": null
  },
  {
   "metadata": {},
   "cell_type": "code",
   "source": "",
   "id": "7fbb096abc144b5d",
   "outputs": [],
   "execution_count": null
  }
 ],
 "metadata": {
  "kernelspec": {
   "display_name": "Python 3",
   "language": "python",
   "name": "python3"
  },
  "language_info": {
   "codemirror_mode": {
    "name": "ipython",
    "version": 2
   },
   "file_extension": ".py",
   "mimetype": "text/x-python",
   "name": "python",
   "nbconvert_exporter": "python",
   "pygments_lexer": "ipython2",
   "version": "2.7.6"
  }
 },
 "nbformat": 4,
 "nbformat_minor": 5
}
