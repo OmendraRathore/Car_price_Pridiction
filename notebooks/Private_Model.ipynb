{
 "cells": [
  {
   "cell_type": "code",
   "id": "initial_id",
   "metadata": {
    "collapsed": true
   },
   "source": [
    "import pandas as pd\n",
    "import numpy as np\n",
    "import xgboost as xgb\n",
    "import joblib\n",
    "from sklearn.model_selection import train_test_split\n",
    "from sklearn.metrics import r2_score, mean_absolute_error"
   ],
   "outputs": [],
   "execution_count": null
  },
  {
   "metadata": {},
   "cell_type": "markdown",
   "source": "### Load Your Clean Private Seller Dataset",
   "id": "3f1105995c3497a1"
  },
  {
   "metadata": {},
   "cell_type": "code",
   "source": [
    "print(\"Loading Data\")\n",
    "try:\n",
    "    df = pd.read_csv('private_market_data.csv')\n",
    "    print(\"'private_market_data.csv' loaded successfully!\")\n",
    "    print(f\"Dataset contains {df.shape[0]} rows and {df.shape[1]} columns.\")\n",
    "except FileNotFoundError:\n",
    "    print(\"Error: Make sure 'private_market_data.csv' is in the same directory.\")\n",
    "if 'model' in df.columns:\n",
    "    df = df.drop('model', axis=1)\n",
    "    print(\"Redundant 'model' column removed.\")\n",
    "\n",
    "print(\"\\nData Preview:\")\n",
    "print(df.head())\n",
    "print(\"\\nData Info:\")\n",
    "df.info()"
   ],
   "id": "1e8c6d30655358a2",
   "outputs": [],
   "execution_count": null
  },
  {
   "metadata": {},
   "cell_type": "markdown",
   "source": "### Feature Engineering (One-Hot Encoding)",
   "id": "fdfe17e1095368b8"
  },
  {
   "metadata": {},
   "cell_type": "code",
   "source": [
    "print(\"\\nPreparing Data for the Model\")\n",
    "\n",
    "model_ready_df = pd.get_dummies(df, columns=['company', 'name', 'fuel_type', 'transmission'])\n",
    "print(\"One-Hot Encoding complete.\")\n",
    "print(f\"The dataset now has {model_ready_df.shape[1]} columns after encoding.\")"
   ],
   "id": "f9fa6b11dfb09f5b",
   "outputs": [],
   "execution_count": null
  },
  {
   "metadata": {},
   "cell_type": "markdown",
   "source": "### Split Data into Training and Testing Sets",
   "id": "e072a304e4856f19"
  },
  {
   "metadata": {},
   "cell_type": "code",
   "source": [
    "print(\"\\nSplitting Data for Training and Testing \")\n",
    "\n",
    "X = model_ready_df.drop('price', axis=1)\n",
    "y = model_ready_df['price']\n",
    "\n",
    "X_train, X_test, y_train, y_test = train_test_split(X, y, test_size=0.2, random_state=42)\n",
    "print(f\"Data split complete: {X_train.shape[0]} rows for training, {X_test.shape[0]} rows for testing.\")\n"
   ],
   "id": "6e584aa0281376dc",
   "outputs": [],
   "execution_count": null
  },
  {
   "metadata": {},
   "cell_type": "markdown",
   "source": "### Train the XGBoost Model",
   "id": "e1014c052cf7f46e"
  },
  {
   "metadata": {},
   "cell_type": "code",
   "source": [
    "print(\"\\nTraining the Model\")\n",
    "print(\"Starting private seller model training\")\n",
    "\n",
    "model = xgb.XGBRegressor(\n",
    "    device='cpu',\n",
    "    n_estimators=1000,\n",
    "    learning_rate=0.05,\n",
    "    max_depth=5,\n",
    "    random_state=42,\n",
    "    n_jobs=-1\n",
    ")\n",
    "\n",
    "model.fit(X_train, y_train)\n",
    "print(\"Model training complete!\")"
   ],
   "id": "867b6d208e1c01a0",
   "outputs": [],
   "execution_count": null
  },
  {
   "metadata": {},
   "cell_type": "markdown",
   "source": "### Evaluate Model Performance",
   "id": "6dd279dd7c0a705c"
  },
  {
   "metadata": {},
   "cell_type": "code",
   "source": [
    "print(\"\\n--- Step 5: Evaluating Model Performance ---\")\n",
    "\n",
    "predictions = model.predict(X_test)\n",
    "\n",
    "r2 = r2_score(y_test, predictions)\n",
    "mae = mean_absolute_error(y_test, predictions)\n",
    "\n",
    "print(f\"R-squared (R2): {r2:.3f}\")\n",
    "print(f\"Mean Absolute Error (MAE): ₹{mae:,.2f}\")"
   ],
   "id": "4c7223037d6797e7",
   "outputs": [],
   "execution_count": null
  },
  {
   "metadata": {},
   "cell_type": "markdown",
   "source": "### Save the Trained Model",
   "id": "f007cd2cbb3aed9e"
  },
  {
   "metadata": {},
   "cell_type": "code",
   "source": [
    "print(\"\\nSaving the Model\")\n",
    "\n",
    "joblib.dump(model, 'private_seller_model.joblib')\n",
    "\n",
    "print(\"\\nPrivate seller model has been saved as 'private_seller_model.joblib'\")"
   ],
   "id": "7dedf2cd6a485dd7",
   "outputs": [],
   "execution_count": null
  },
  {
   "metadata": {},
   "cell_type": "code",
   "source": "",
   "id": "1676d159df5f7457",
   "outputs": [],
   "execution_count": null
  }
 ],
 "metadata": {
  "kernelspec": {
   "display_name": "Python 3",
   "language": "python",
   "name": "python3"
  },
  "language_info": {
   "codemirror_mode": {
    "name": "ipython",
    "version": 2
   },
   "file_extension": ".py",
   "mimetype": "text/x-python",
   "name": "python",
   "nbconvert_exporter": "python",
   "pygments_lexer": "ipython2",
   "version": "2.7.6"
  }
 },
 "nbformat": 4,
 "nbformat_minor": 5
}
